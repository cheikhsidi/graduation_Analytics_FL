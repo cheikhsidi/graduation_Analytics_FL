{
 "cells": [
  {
   "cell_type": "code",
   "execution_count": 146,
   "metadata": {},
   "outputs": [],
   "source": [
    "import warnings\n",
    "warnings.filterwarnings('ignore')"
   ]
  },
  {
   "cell_type": "code",
   "execution_count": 147,
   "metadata": {},
   "outputs": [
    {
     "data": {
      "text/html": [
       "<div>\n",
       "<style scoped>\n",
       "    .dataframe tbody tr th:only-of-type {\n",
       "        vertical-align: middle;\n",
       "    }\n",
       "\n",
       "    .dataframe tbody tr th {\n",
       "        vertical-align: top;\n",
       "    }\n",
       "\n",
       "    .dataframe thead th {\n",
       "        text-align: right;\n",
       "    }\n",
       "</style>\n",
       "<table border=\"1\" class=\"dataframe\">\n",
       "  <thead>\n",
       "    <tr style=\"text-align: right;\">\n",
       "      <th></th>\n",
       "      <th>State</th>\n",
       "      <th>Applicants(x100)</th>\n",
       "      <th>Admitted(x100)</th>\n",
       "      <th>Enrolled(X100)</th>\n",
       "      <th>Acceptance Rate</th>\n",
       "      <th>Admission Yield</th>\n",
       "    </tr>\n",
       "  </thead>\n",
       "  <tbody>\n",
       "    <tr>\n",
       "      <td>0</td>\n",
       "      <td>AK</td>\n",
       "      <td>15.866000</td>\n",
       "      <td>12.446000</td>\n",
       "      <td>6.538000</td>\n",
       "      <td>76.474000</td>\n",
       "      <td>49.310000</td>\n",
       "    </tr>\n",
       "    <tr>\n",
       "      <td>1</td>\n",
       "      <td>AL</td>\n",
       "      <td>66.101111</td>\n",
       "      <td>45.073333</td>\n",
       "      <td>11.217037</td>\n",
       "      <td>68.044815</td>\n",
       "      <td>28.190741</td>\n",
       "    </tr>\n",
       "    <tr>\n",
       "      <td>2</td>\n",
       "      <td>AR</td>\n",
       "      <td>32.627000</td>\n",
       "      <td>24.172500</td>\n",
       "      <td>8.677500</td>\n",
       "      <td>70.469000</td>\n",
       "      <td>40.225500</td>\n",
       "    </tr>\n",
       "    <tr>\n",
       "      <td>3</td>\n",
       "      <td>AZ</td>\n",
       "      <td>99.170588</td>\n",
       "      <td>79.781765</td>\n",
       "      <td>20.401765</td>\n",
       "      <td>77.754706</td>\n",
       "      <td>41.070588</td>\n",
       "    </tr>\n",
       "    <tr>\n",
       "      <td>4</td>\n",
       "      <td>CA</td>\n",
       "      <td>122.550500</td>\n",
       "      <td>48.981429</td>\n",
       "      <td>10.589214</td>\n",
       "      <td>62.544500</td>\n",
       "      <td>39.453000</td>\n",
       "    </tr>\n",
       "  </tbody>\n",
       "</table>\n",
       "</div>"
      ],
      "text/plain": [
       "  State  Applicants(x100)  Admitted(x100)  Enrolled(X100)  Acceptance Rate  \\\n",
       "0    AK         15.866000       12.446000        6.538000        76.474000   \n",
       "1    AL         66.101111       45.073333       11.217037        68.044815   \n",
       "2    AR         32.627000       24.172500        8.677500        70.469000   \n",
       "3    AZ         99.170588       79.781765       20.401765        77.754706   \n",
       "4    CA        122.550500       48.981429       10.589214        62.544500   \n",
       "\n",
       "   Admission Yield  \n",
       "0        49.310000  \n",
       "1        28.190741  \n",
       "2        40.225500  \n",
       "3        41.070588  \n",
       "4        39.453000  "
      ]
     },
     "execution_count": 147,
     "metadata": {},
     "output_type": "execute_result"
    }
   ],
   "source": [
    "#%matplotlib notebook\n",
    "import pandas as pd\n",
    "import matplotlib.pyplot as plt\n",
    "import numpy as np\n",
    "import scipy.stats as stats\n",
    "\n",
    "# formatting Acceptance Rate Table\n",
    "Accept = pd.DataFrame(pd.read_csv(\"data/Acceptance.csv\"))\n",
    "# Removing the percent signe\n",
    "Accept = Accept.drop([\"Unnamed: 0\", \"Unnamed: 0.1\"], axis =1)\n",
    "Accept[\"Admission Yield\"] = [round(float(x.strip(\"%\")),2) for x in Accept[\"Admission Yield\"]]\n",
    "Accept[\"Acceptance Rate\"] = [round(float(x.strip(\"%\")),2) for x in Accept[\"Acceptance Rate\"]]\n",
    "Accept[\"Applicants(x100)\"] = [round((x/100),2) for x in Accept[\"Applicants\"]]\n",
    "Accept[\"Admitted(x100)\"] = [round((x/100),2) for x in Accept[\"Admitted\"]]\n",
    "Accept[\"Enrolled(X100)\"] = [round((x/100),2) for x in Accept[\"Enrolled\"]]\n",
    "Accept = Accept[[\"State\", \"Applicants(x100)\", \"Admitted(x100)\", \"Enrolled(X100)\", \"Acceptance Rate\",\"Admission Yield\"]]\n",
    "states_average_acceptance = Accept.groupby(\"State\").mean().reset_index()\n",
    "states_average_acceptance.head()\n",
    "#index = pd.Index(states_average_acceptance[\"State\"], name='State')"
   ]
  },
  {
   "cell_type": "code",
   "execution_count": 148,
   "metadata": {},
   "outputs": [
    {
     "data": {
      "text/html": [
       "<div>\n",
       "<style scoped>\n",
       "    .dataframe tbody tr th:only-of-type {\n",
       "        vertical-align: middle;\n",
       "    }\n",
       "\n",
       "    .dataframe tbody tr th {\n",
       "        vertical-align: top;\n",
       "    }\n",
       "\n",
       "    .dataframe thead th {\n",
       "        text-align: right;\n",
       "    }\n",
       "</style>\n",
       "<table border=\"1\" class=\"dataframe\">\n",
       "  <thead>\n",
       "    <tr style=\"text-align: right;\">\n",
       "      <th></th>\n",
       "      <th>State</th>\n",
       "      <th>Applicants</th>\n",
       "      <th>Admitted</th>\n",
       "      <th>Enrolled</th>\n",
       "      <th>Acceptance Rate</th>\n",
       "      <th>Admission Yield</th>\n",
       "    </tr>\n",
       "  </thead>\n",
       "  <tbody>\n",
       "    <tr>\n",
       "      <td>0</td>\n",
       "      <td>AK</td>\n",
       "      <td>1586.600000</td>\n",
       "      <td>1244.600000</td>\n",
       "      <td>653.800000</td>\n",
       "      <td>76.474000</td>\n",
       "      <td>49.310000</td>\n",
       "    </tr>\n",
       "    <tr>\n",
       "      <td>1</td>\n",
       "      <td>AL</td>\n",
       "      <td>6610.111111</td>\n",
       "      <td>4507.333333</td>\n",
       "      <td>1121.703704</td>\n",
       "      <td>68.044815</td>\n",
       "      <td>28.190741</td>\n",
       "    </tr>\n",
       "    <tr>\n",
       "      <td>2</td>\n",
       "      <td>AR</td>\n",
       "      <td>3262.700000</td>\n",
       "      <td>2417.250000</td>\n",
       "      <td>867.750000</td>\n",
       "      <td>70.469000</td>\n",
       "      <td>40.225500</td>\n",
       "    </tr>\n",
       "    <tr>\n",
       "      <td>3</td>\n",
       "      <td>AZ</td>\n",
       "      <td>9917.058824</td>\n",
       "      <td>7978.176471</td>\n",
       "      <td>2040.176471</td>\n",
       "      <td>77.754706</td>\n",
       "      <td>41.070588</td>\n",
       "    </tr>\n",
       "    <tr>\n",
       "      <td>4</td>\n",
       "      <td>CA</td>\n",
       "      <td>12255.050000</td>\n",
       "      <td>4898.142857</td>\n",
       "      <td>1058.921429</td>\n",
       "      <td>62.544500</td>\n",
       "      <td>39.453000</td>\n",
       "    </tr>\n",
       "  </tbody>\n",
       "</table>\n",
       "</div>"
      ],
      "text/plain": [
       "  State    Applicants     Admitted     Enrolled  Acceptance Rate  \\\n",
       "0    AK   1586.600000  1244.600000   653.800000        76.474000   \n",
       "1    AL   6610.111111  4507.333333  1121.703704        68.044815   \n",
       "2    AR   3262.700000  2417.250000   867.750000        70.469000   \n",
       "3    AZ   9917.058824  7978.176471  2040.176471        77.754706   \n",
       "4    CA  12255.050000  4898.142857  1058.921429        62.544500   \n",
       "\n",
       "   Admission Yield  \n",
       "0        49.310000  \n",
       "1        28.190741  \n",
       "2        40.225500  \n",
       "3        41.070588  \n",
       "4        39.453000  "
      ]
     },
     "execution_count": 148,
     "metadata": {},
     "output_type": "execute_result"
    }
   ],
   "source": [
    "#Formatting Acceptance Table\n",
    "Accept = pd.DataFrame(pd.read_csv(\"data/Acceptance.csv\"))\n",
    "Accept.drop(Accept.columns[[0,1]], axis = 1, inplace = True)\n",
    "for column in Accept.columns[1:-1] :\n",
    "    try:\n",
    "        Accept[column] = [round(float(x.strip(\"$,%\")),2) for x in Accept[column]]\n",
    "    except:\n",
    "        pass\n",
    "Average_Acceptance = Accept.loc[Accept['School Name'] == 'Average']\n",
    "Accept_Avg = Accept.groupby(\"State\").mean().reset_index()       \n",
    "Accept_Avg.head()"
   ]
  },
  {
   "cell_type": "code",
   "execution_count": 149,
   "metadata": {},
   "outputs": [
    {
     "data": {
      "text/html": [
       "<div>\n",
       "<style scoped>\n",
       "    .dataframe tbody tr th:only-of-type {\n",
       "        vertical-align: middle;\n",
       "    }\n",
       "\n",
       "    .dataframe tbody tr th {\n",
       "        vertical-align: top;\n",
       "    }\n",
       "\n",
       "    .dataframe thead th {\n",
       "        text-align: right;\n",
       "    }\n",
       "</style>\n",
       "<table border=\"1\" class=\"dataframe\">\n",
       "  <thead>\n",
       "    <tr style=\"text-align: right;\">\n",
       "      <th></th>\n",
       "      <th>School Name</th>\n",
       "      <th>Tuition &amp; Fees</th>\n",
       "      <th>Tuition &amp; Fees.1</th>\n",
       "      <th>Cost Per Credit Hour</th>\n",
       "      <th>Cost Per Credit Hour.1</th>\n",
       "      <th>Books &amp; Supplies</th>\n",
       "      <th>Living Costs</th>\n",
       "      <th>Living Costs.1</th>\n",
       "      <th>State</th>\n",
       "    </tr>\n",
       "  </thead>\n",
       "  <tbody>\n",
       "    <tr>\n",
       "      <td>89</td>\n",
       "      <td>Average</td>\n",
       "      <td>6550.0</td>\n",
       "      <td>14111.0</td>\n",
       "      <td>216.0</td>\n",
       "      <td>492.0</td>\n",
       "      <td>1440.0</td>\n",
       "      <td>8002.0</td>\n",
       "      <td>7858.0</td>\n",
       "      <td>AL</td>\n",
       "    </tr>\n",
       "    <tr>\n",
       "      <td>99</td>\n",
       "      <td>Average</td>\n",
       "      <td>6537.0</td>\n",
       "      <td>14038.0</td>\n",
       "      <td>221.0</td>\n",
       "      <td>564.0</td>\n",
       "      <td>1074.0</td>\n",
       "      <td>9712.0</td>\n",
       "      <td>11752.0</td>\n",
       "      <td>AK</td>\n",
       "    </tr>\n",
       "    <tr>\n",
       "      <td>216</td>\n",
       "      <td>Average</td>\n",
       "      <td>4471.0</td>\n",
       "      <td>16113.0</td>\n",
       "      <td>251.0</td>\n",
       "      <td>566.0</td>\n",
       "      <td>1240.0</td>\n",
       "      <td>9457.0</td>\n",
       "      <td>8662.0</td>\n",
       "      <td>AZ</td>\n",
       "    </tr>\n",
       "    <tr>\n",
       "      <td>297</td>\n",
       "      <td>Average</td>\n",
       "      <td>4673.0</td>\n",
       "      <td>12235.0</td>\n",
       "      <td>127.0</td>\n",
       "      <td>343.0</td>\n",
       "      <td>2293.0</td>\n",
       "      <td>7830.0</td>\n",
       "      <td>7786.0</td>\n",
       "      <td>AR</td>\n",
       "    </tr>\n",
       "    <tr>\n",
       "      <td>919</td>\n",
       "      <td>Average</td>\n",
       "      <td>3006.0</td>\n",
       "      <td>18959.0</td>\n",
       "      <td>46.0</td>\n",
       "      <td>637.0</td>\n",
       "      <td>1698.0</td>\n",
       "      <td>12683.0</td>\n",
       "      <td>13192.0</td>\n",
       "      <td>CA</td>\n",
       "    </tr>\n",
       "  </tbody>\n",
       "</table>\n",
       "</div>"
      ],
      "text/plain": [
       "    School Name  Tuition & Fees  Tuition & Fees.1  Cost Per Credit Hour  \\\n",
       "89      Average          6550.0           14111.0                 216.0   \n",
       "99      Average          6537.0           14038.0                 221.0   \n",
       "216     Average          4471.0           16113.0                 251.0   \n",
       "297     Average          4673.0           12235.0                 127.0   \n",
       "919     Average          3006.0           18959.0                  46.0   \n",
       "\n",
       "     Cost Per Credit Hour.1  Books & Supplies  Living Costs  Living Costs.1  \\\n",
       "89                    492.0            1440.0        8002.0          7858.0   \n",
       "99                    564.0            1074.0        9712.0         11752.0   \n",
       "216                   566.0            1240.0        9457.0          8662.0   \n",
       "297                   343.0            2293.0        7830.0          7786.0   \n",
       "919                   637.0            1698.0       12683.0         13192.0   \n",
       "\n",
       "    State  \n",
       "89     AL  \n",
       "99     AK  \n",
       "216    AZ  \n",
       "297    AR  \n",
       "919    CA  "
      ]
     },
     "execution_count": 149,
     "metadata": {},
     "output_type": "execute_result"
    }
   ],
   "source": [
    "#Formatting Tuition df\n",
    "Tuition = pd.DataFrame(pd.read_csv(\"data/Tuition.csv\"))\n",
    "Tuition = Tuition.drop(0)\n",
    "Tuition = Tuition.replace('-',0)\n",
    "Tuition.drop(Tuition.columns[[0,1]], axis = 1, inplace = True)\n",
    "for column in Tuition.columns[1:-1] :\n",
    "    Tuition[column] = Tuition[column].str.strip('$, ').str.replace(',','').fillna(0).astype('float')\n",
    "Avg_Tuition = Tuition.loc[Tuition['School Name'] == 'Average']\n",
    "Avg_Tuition.head()"
   ]
  },
  {
   "cell_type": "code",
   "execution_count": 150,
   "metadata": {},
   "outputs": [
    {
     "data": {
      "text/html": [
       "<div>\n",
       "<style scoped>\n",
       "    .dataframe tbody tr th:only-of-type {\n",
       "        vertical-align: middle;\n",
       "    }\n",
       "\n",
       "    .dataframe tbody tr th {\n",
       "        vertical-align: top;\n",
       "    }\n",
       "\n",
       "    .dataframe thead th {\n",
       "        text-align: right;\n",
       "    }\n",
       "</style>\n",
       "<table border=\"1\" class=\"dataframe\">\n",
       "  <thead>\n",
       "    <tr style=\"text-align: right;\">\n",
       "      <th></th>\n",
       "      <th>Average</th>\n",
       "      <th>Graduation Rate</th>\n",
       "      <th>Transfer-out Rate</th>\n",
       "      <th>Transfer-out Rate (BS degree)</th>\n",
       "      <th>Retention Rate (Full-time)</th>\n",
       "      <th>Retention Rate (Part-time)</th>\n",
       "      <th>State</th>\n",
       "    </tr>\n",
       "  </thead>\n",
       "  <tbody>\n",
       "    <tr>\n",
       "      <td>94</td>\n",
       "      <td>Average</td>\n",
       "      <td>38.58</td>\n",
       "      <td>24.00</td>\n",
       "      <td>31.00</td>\n",
       "      <td>63.37</td>\n",
       "      <td>48.11</td>\n",
       "      <td>AL</td>\n",
       "    </tr>\n",
       "    <tr>\n",
       "      <td>105</td>\n",
       "      <td>Average</td>\n",
       "      <td>46.13</td>\n",
       "      <td>19.00</td>\n",
       "      <td>25.50</td>\n",
       "      <td>72.56</td>\n",
       "      <td>66.50</td>\n",
       "      <td>AK</td>\n",
       "    </tr>\n",
       "    <tr>\n",
       "      <td>230</td>\n",
       "      <td>Average</td>\n",
       "      <td>50.38</td>\n",
       "      <td>14.51</td>\n",
       "      <td>25.33</td>\n",
       "      <td>65.31</td>\n",
       "      <td>48.24</td>\n",
       "      <td>AZ</td>\n",
       "    </tr>\n",
       "    <tr>\n",
       "      <td>315</td>\n",
       "      <td>Average</td>\n",
       "      <td>44.88</td>\n",
       "      <td>18.93</td>\n",
       "      <td>33.69</td>\n",
       "      <td>61.59</td>\n",
       "      <td>43.14</td>\n",
       "      <td>AR</td>\n",
       "    </tr>\n",
       "    <tr>\n",
       "      <td>983</td>\n",
       "      <td>Average</td>\n",
       "      <td>59.95</td>\n",
       "      <td>10.95</td>\n",
       "      <td>14.87</td>\n",
       "      <td>75.67</td>\n",
       "      <td>56.79</td>\n",
       "      <td>CA</td>\n",
       "    </tr>\n",
       "  </tbody>\n",
       "</table>\n",
       "</div>"
      ],
      "text/plain": [
       "     Average  Graduation Rate  Transfer-out Rate  \\\n",
       "94   Average            38.58              24.00   \n",
       "105  Average            46.13              19.00   \n",
       "230  Average            50.38              14.51   \n",
       "315  Average            44.88              18.93   \n",
       "983  Average            59.95              10.95   \n",
       "\n",
       "     Transfer-out Rate (BS degree)  Retention Rate (Full-time)  \\\n",
       "94                           31.00                       63.37   \n",
       "105                          25.50                       72.56   \n",
       "230                          25.33                       65.31   \n",
       "315                          33.69                       61.59   \n",
       "983                          14.87                       75.67   \n",
       "\n",
       "     Retention Rate (Part-time) State  \n",
       "94                        48.11    AL  \n",
       "105                       66.50    AK  \n",
       "230                       48.24    AZ  \n",
       "315                       43.14    AR  \n",
       "983                       56.79    CA  "
      ]
     },
     "execution_count": 150,
     "metadata": {},
     "output_type": "execute_result"
    }
   ],
   "source": [
    "#Formatting Gradution Table\n",
    "Graduation = pd.DataFrame(pd.read_csv(\"data/Graduation.csv\"))\n",
    "Graduation = Graduation.replace('-',0)\n",
    "Graduation.drop(Graduation.columns[[0,1]], axis = 1, inplace = True)\n",
    "for column in Graduation.columns[1:-1] :\n",
    "    Graduation[column] = Graduation[column].str.strip('%').str.replace(',','').fillna(0).astype('float')\n",
    "Avg_Graduation = Graduation.loc[Graduation['School Name'] == 'Average']\n",
    "Avg_Graduation.rename(columns = {\"School Name\": \"Average\"}, inplace=True)\n",
    "Graduation.head()\n",
    "Avg_Graduation.head()"
   ]
  },
  {
   "cell_type": "code",
   "execution_count": 151,
   "metadata": {},
   "outputs": [
    {
     "data": {
      "image/png": "[encoded data removed]",
      "text/plain": [
       "<Figure size 1440x360 with 1 Axes>"
      ]
     },
     "metadata": {
      "needs_background": "light"
     },
     "output_type": "display_data"
    }
   ],
   "source": [
    "fig, ax = plt.subplots()\n",
    "x_axis = [x for x in range(len(states_average_acceptance[\"State\"]))]\n",
    "ax = Avg_Graduation[\"Graduation Rate\"].plot(kind = \"bar\", figsize = (20,5))\n",
    "plt.xticks(x_axis, Avg_Graduation[\"State\"], rotation=\"horizontal\")\n",
    "plt.title(\"Graduation Rate by State\")\n",
    "ax.set_xlabel(\"State\")\n",
    "ax.set_ylabel(\"Graduation Rate (%)\")\n",
    "fig.savefig('Graduation_by_State.png')\n",
    "plt.show()"
   ]
  },
  {
   "cell_type": "code",
   "execution_count": 152,
   "metadata": {},
   "outputs": [],
   "source": [
    "# Creating a function scatter and histogram plots\n",
    "def Plot(p1, p2):\n",
    "    \n",
    "    fig, ax = plt.subplots()\n",
    "    \n",
    "    # Scatter Plot of Data\n",
    "    plt.subplot(2, 1, 1)\n",
    "    plt.scatter(range(len(p1)), p1, label=p1.name)\n",
    "    plt.scatter(range(len(p2)), p2, label=p2.name)\n",
    "    plt.legend()\n",
    "\n",
    "    # Histogram Plot of Data\n",
    "    plt.subplot(2, 1, 2)\n",
    "    plt.hist(p1, 10, density=True, alpha=0.7, label=p1.name)\n",
    "    plt.hist(p2, 10, density=True, alpha=0.7, label=p2.name)\n",
    "    plt.axvline(p1.mean(), color='k', linestyle='dashed', linewidth=1)\n",
    "    plt.axvline(p2.mean(), color='k', linestyle='dashed', linewidth=1)\n",
    "    plt.legend()  \n",
    "    \n",
    "    return plt.show()"
   ]
  },
  {
   "cell_type": "code",
   "execution_count": 153,
   "metadata": {},
   "outputs": [
    {
     "data": {
      "image/png": "[encoded data removed]",
      "text/plain": [
       "<Figure size 432x288 with 2 Axes>"
      ]
     },
     "metadata": {
      "needs_background": "light"
     },
     "output_type": "display_data"
    }
   ],
   "source": [
    "# Creating graduation and tuition fees dataframe\n",
    "target_table = pd.DataFrame({\"State\":Avg_Graduation[\"State\"],\n",
    "                             \"Graduation Rate\" :Avg_Graduation[\"Graduation Rate\"], \n",
    "                             \"Tuition Fees\" : Avg_Tuition[\"Tuition & Fees\"].tolist()})\n",
    "\n",
    "# Plotting Graduation Rate vs Tuition\n",
    "\n",
    "Gr = target_table[\"Graduation Rate\"]\n",
    "Tu = target_table[\"Tuition Fees\"]/100\n",
    "  \n",
    "Plot(Gr, Tu)\n",
    "#plt.title(\"Graduation Rate vs. Tuition Fees\")\n",
    "#ax.set_xlabel(\"Graduation (%)\")\n",
    "#ax.set_ylabel(\"Tuition Fees ($)\")\n",
    "fig.savefig('Graduation_Tuition.png')"
   ]
  },
  {
   "cell_type": "code",
   "execution_count": 154,
   "metadata": {},
   "outputs": [
    {
     "data": {
      "text/plain": [
       "Ttest_indResult(statistic=-3.632738924953407, pvalue=0.0005806882851226509)"
      ]
     },
     "execution_count": 154,
     "metadata": {},
     "output_type": "execute_result"
    }
   ],
   "source": [
    "#T-test on Graduation and tuition fees\n",
    "stats.ttest_ind(Gr, Tu, equal_var=False)"
   ]
  },
  {
   "cell_type": "code",
   "execution_count": 155,
   "metadata": {},
   "outputs": [
    {
     "data": {
      "image/png": "[encoded data removed]",
      "text/plain": [
       "<Figure size 432x288 with 2 Axes>"
      ]
     },
     "metadata": {
      "needs_background": "light"
     },
     "output_type": "display_data"
    }
   ],
   "source": [
    "# Plotting Graduation Rate vs Acceptance Rate\n",
    "Gr = Avg_Graduation[\"Graduation Rate\"]\n",
    "Ac = Average_Acceptance[\"Acceptance Rate\"]\n",
    "Plot(Gr,Ac)\n",
    "\n",
    "fig.savefig('Graduation_Acceptance.png')"
   ]
  },
  {
   "cell_type": "code",
   "execution_count": 156,
   "metadata": {},
   "outputs": [
    {
     "data": {
      "text/plain": [
       "Ttest_indResult(statistic=-6.014773010300378, pvalue=6.841825633625919e-08)"
      ]
     },
     "execution_count": 156,
     "metadata": {},
     "output_type": "execute_result"
    }
   ],
   "source": [
    "#T-test on Graduation and Acceptance Rate\n",
    "stats.ttest_ind(Gr, Ac, equal_var=False)"
   ]
  },
  {
   "cell_type": "code",
   "execution_count": 182,
   "metadata": {},
   "outputs": [
    {
     "data": {
      "text/html": [
       "<div>\n",
       "<style scoped>\n",
       "    .dataframe tbody tr th:only-of-type {\n",
       "        vertical-align: middle;\n",
       "    }\n",
       "\n",
       "    .dataframe tbody tr th {\n",
       "        vertical-align: top;\n",
       "    }\n",
       "\n",
       "    .dataframe thead th {\n",
       "        text-align: right;\n",
       "    }\n",
       "</style>\n",
       "<table border=\"1\" class=\"dataframe\">\n",
       "  <thead>\n",
       "    <tr style=\"text-align: right;\">\n",
       "      <th></th>\n",
       "      <th>State</th>\n",
       "      <th>ACT 25% Percentile</th>\n",
       "      <th>ACT 75% Percentile</th>\n",
       "    </tr>\n",
       "  </thead>\n",
       "  <tbody>\n",
       "    <tr>\n",
       "      <td>0</td>\n",
       "      <td>AK</td>\n",
       "      <td>53.000000</td>\n",
       "      <td>75.000000</td>\n",
       "    </tr>\n",
       "    <tr>\n",
       "      <td>1</td>\n",
       "      <td>AL</td>\n",
       "      <td>56.521739</td>\n",
       "      <td>77.173913</td>\n",
       "    </tr>\n",
       "    <tr>\n",
       "      <td>2</td>\n",
       "      <td>AR</td>\n",
       "      <td>59.000000</td>\n",
       "      <td>77.600000</td>\n",
       "    </tr>\n",
       "    <tr>\n",
       "      <td>3</td>\n",
       "      <td>AZ</td>\n",
       "      <td>58.500000</td>\n",
       "      <td>78.000000</td>\n",
       "    </tr>\n",
       "    <tr>\n",
       "      <td>4</td>\n",
       "      <td>CA</td>\n",
       "      <td>61.240000</td>\n",
       "      <td>78.586667</td>\n",
       "    </tr>\n",
       "  </tbody>\n",
       "</table>\n",
       "</div>"
      ],
      "text/plain": [
       "  State  ACT 25% Percentile  ACT 75% Percentile\n",
       "0    AK           53.000000           75.000000\n",
       "1    AL           56.521739           77.173913\n",
       "2    AR           59.000000           77.600000\n",
       "3    AZ           58.500000           78.000000\n",
       "4    CA           61.240000           78.586667"
      ]
     },
     "execution_count": 182,
     "metadata": {},
     "output_type": "execute_result"
    }
   ],
   "source": [
    "#Formatting SAT_ACT df\n",
    "ACT_SAT = pd.DataFrame(pd.read_csv(\"data/SAT_ACT.csv\"))\n",
    "\n",
    "ACT_SAT = ACT_SAT.replace('-',0)\n",
    "ACT_SAT.drop(ACT_SAT.head().columns[[0,1]], axis = 1, inplace = True)\n",
    "for column in ACT_SAT.columns[2:-1] :\n",
    "    ACT_SAT[column] = ACT_SAT[column].str.rstrip('(MT only), (CM O, (MTEN').str.replace(',', '').fillna(0).astype('int')\n",
    "Avg_ACT_SAT = ACT_SAT.groupby('State').mean().reset_index()\n",
    "#Avg_ACT_SAT[\"SAT 25% Percentile(x100)\"] = round((Avg_ACT_SAT[\"SAT 25% Percentile\"]/100),2)\n",
    "#Avg_ACT_SAT[\"SAT 75% Percentile(x100)\"] = round((Avg_ACT_SAT[\"SAT 75% Percentile\"]/100),2)\n",
    "Avg_SAT = Avg_ACT_SAT[[\"State\",\"SAT 25% Percentile\", \"SAT 75% Percentile\"]]\n",
    "Avg_ACT = Avg_ACT_SAT[[\"State\",\"ACT 25% Percentile\", \"ACT 75% Percentile\"]]\n",
    "Avg_SAT[\"SAT 25%\"] = (Avg_SAT[\"SAT 25% Percentile\"]/(Avg_SAT[\"SAT 25% Percentile\"] + Avg_SAT[\"SAT 75% Percentile\"]))*100\n",
    "Avg_SAT[\"SAT 75%\"] = (Avg_SAT[\"SAT 75% Percentile\"]/(Avg_SAT[\"SAT 25% Percentile\"] + Avg_SAT[\"SAT 75% Percentile\"]))*100\n",
    "Avg_ACT.head()"
   ]
  },
  {
   "cell_type": "code",
   "execution_count": 181,
   "metadata": {},
   "outputs": [
    {
     "data": {
      "image/png": "[encoded data removed]",
      "text/plain": [
       "<Figure size 432x288 with 2 Axes>"
      ]
     },
     "metadata": {
      "needs_background": "light"
     },
     "output_type": "display_data"
    }
   ],
   "source": [
    "#Plotting ACT Test per state\n",
    "\n",
    "Act_25 =  Avg_ACT[\"ACT 25% Percentile\"]\n",
    "Act_75 =  Avg_ACT[\"ACT 75% Percentile\"]\n",
    "SAT_25 =  Avg_SAT[\"SAT 25%\"]\n",
    "SAT_75 =  Avg_SAT[\"SAT 75%\"]\n",
    "#Plot(Act_25, Gr)\n",
    "Plot(SAT_75, Gr)\n",
    "# x_axis = [x for x in range(len(Avg_ACT_SAT[\"State\"]))]\n",
    "# ax = Avg_ACT.plot(kind = \"bar\", figsize = (20,5))\n",
    "# plt.xticks(x_axis, Avg_ACT_SAT[\"State\"], rotation=\"horizontal\")\n",
    "# plt.title(\"Average ACT Test by State\")\n",
    "# ax.set_xlabel(\"State\")\n",
    "# ax.set_ylabel(\"ACT Tests\")\n",
    "# fig.savefig('ACT_per_State.png')"
   ]
  },
  {
   "cell_type": "code",
   "execution_count": 183,
   "metadata": {},
   "outputs": [
    {
     "data": {
      "text/plain": [
       "Ttest_indResult(statistic=-1.6615891429762641, pvalue=0.10280111787662326)"
      ]
     },
     "execution_count": 183,
     "metadata": {},
     "output_type": "execute_result"
    }
   ],
   "source": [
    "stats.ttest_ind(Gr, SAT_75, equal_var=False)"
   ]
  },
  {
   "cell_type": "code",
   "execution_count": null,
   "metadata": {},
   "outputs": [],
   "source": []
  }
 ],
 "metadata": {
  "kernelspec": {
   "display_name": "class_env",
   "language": "python",
   "name": "class_env"
  },
  "language_info": {
   "codemirror_mode": {
    "name": "ipython",
    "version": 3
   },
   "file_extension": ".py",
   "mimetype": "text/x-python",
   "name": "python",
   "nbconvert_exporter": "python",
   "pygments_lexer": "ipython3",
   "version": "3.7.1"
  }
 },
 "nbformat": 4,
 "nbformat_minor": 2
}
