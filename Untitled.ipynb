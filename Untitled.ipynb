{
 "cells": [
  {
   "cell_type": "code",
   "execution_count": 8,
   "metadata": {},
   "outputs": [
    {
     "data": {
      "text/plain": [
       "255"
      ]
     },
     "execution_count": 8,
     "metadata": {},
     "output_type": "execute_result"
    }
   ],
   "source": [
    "import pandas as pd\n",
    "import numpy as np\n",
    "df_list =[]\n",
    "states = [\"AL\",\"AK\", \"AZ\", \"AR\", \"CA\", \"CO\", \"CT\", \"DC\", \"DE\", \"FL\", \"GA\",\n",
    "         \"HI\", \"ID\", \"IL\", \"IN\", \"IA\", \"KS\", \"KY\", \"LA\", \"ME\", \"MD\",\n",
    "         \"MA\", \"MI\", \"MN\", \"MS\", \"MO\", \"MT\", \"NE\", \"NV\", \"NH\", \"NJ\",\n",
    "         \"NM\", \"NY\", \"NC\", \"ND\", \"OH\", \"OK\", \"OR\", \"PA\", \"RI\", \"SC\",\n",
    "         \"SD\", \"TN\", \"TX\", \"UT\", \"VT\", \"VA\", \"WA\", \"WV\", \"WI\", \"WY\"]\n",
    "data = [r\"acceptance-rate\", r\"tuition\", r\"graduation-rate\", r\"sat-act-scores\", r\"student-population\"]\n",
    "for st in states:\n",
    "    for dt in data:\n",
    "        url = f\"https://www.collegetuitioncompare.com/compare/tables/?state={st}&factor={dt}\"\n",
    "        response = pd.read_html(url)\n",
    "        df_list.append(response)\n",
    "        \n",
    "len(df_list)"
   ]
  },
  {
   "cell_type": "code",
   "execution_count": 9,
   "metadata": {},
   "outputs": [],
   "source": [
    "Acceptance = []\n",
    "Tuition = []\n",
    "Graduation = []\n",
    "SAT_ACT = []\n",
    "Students_pop = []\n",
    "for i in range (0,255,5):\n",
    "    Acceptance.append(df_list[i][0])\n",
    "    Tuition.append(df_list[i+1][0])\n",
    "    Graduation.append(df_list[i+2][0])\n",
    "    SAT_ACT.append(df_list[i+3][0])\n",
    "    Students_pop.append(df_list[i+4][0])\n",
    "for i in range(len(states)):\n",
    "    Acceptance[i][\"State\"] = states[i]\n",
    "    Tuition[i][\"State\"] = states[i]\n",
    "    Graduation[i][\"State\"] = states[i]\n",
    "    SAT_ACT[i][\"State\"] = states[i]\n",
    "    Students_pop[i][\"State\"] = states[i]   "
   ]
  },
  {
   "cell_type": "code",
   "execution_count": 10,
   "metadata": {},
   "outputs": [],
   "source": [
    "Acceptance_df = pd.concat(Acceptance)\n",
    "Tuition_df =  pd.concat(Tuition)\n",
    "Graduation_df = pd.concat(Graduation)\n",
    "SAT_ACT_df = pd.concat(SAT_ACT)\n",
    "Students_pop_df = pd.concat(Students_pop)\n"
   ]
  },
  {
   "cell_type": "code",
   "execution_count": 11,
   "metadata": {},
   "outputs": [],
   "source": [
    "Acceptance_df.to_csv(\"data/Acceptance.csv\")\n",
    "Tuition_df.to_csv(\"data/Tuition.csv\")\n",
    "Graduation_df.to_csv(\"data/Graduation.csv\")\n",
    "SAT_ACT_df.to_csv(\"data/SAT_ACT.csv\")\n",
    "Students_pop_df.to_csv(\"data/Students_pop.csv\")"
   ]
  },
  {
   "cell_type": "code",
   "execution_count": null,
   "metadata": {},
   "outputs": [],
   "source": []
  }
 ],
 "metadata": {
  "kernelspec": {
   "display_name": "class_env",
   "language": "python",
   "name": "class_env"
  },
  "language_info": {
   "codemirror_mode": {
    "name": "ipython",
    "version": 3
   },
   "file_extension": ".py",
   "mimetype": "text/x-python",
   "name": "python",
   "nbconvert_exporter": "python",
   "pygments_lexer": "ipython3",
   "version": "3.7.1"
  }
 },
 "nbformat": 4,
 "nbformat_minor": 2
}
